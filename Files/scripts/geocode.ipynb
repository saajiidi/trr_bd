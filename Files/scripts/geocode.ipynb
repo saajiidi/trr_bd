{
 "cells": [
  {
   "cell_type": "code",
   "execution_count": null,
   "metadata": {},
   "outputs": [],
   "source": [
    "import pandas as pd\n",
    "from geopy.geocoders import Nominatim\n",
    "from geopy.exc import GeocoderTimedOut\n",
    "\n",
    "# Load your data\n",
    "df = pd.read_csv('../data/trr_bd.csv')\n",
    "\n",
    "# Display the first few rows of the dataset\n",
    "print(df.head())\n",
    "\n"
   ]
  },
  {
   "cell_type": "code",
   "execution_count": 16,
   "metadata": {},
   "outputs": [],
   "source": [
    "\n",
    "# Initialize geocoder\n",
    "geolocator = Nominatim(user_agent=\"visualization_map_project\")\n",
    "\n",
    "# Function to get coordinates\n",
    "def get_coordinates(location):\n",
    "    try:\n",
    "        geo = geolocator.geocode(location, timeout=10)\n",
    "        if geo:\n",
    "            return pd.Series([geo.latitude, geo.longitude])\n",
    "        else:\n",
    "            return pd.Series([None, None])\n",
    "    except GeocoderTimedOut:\n",
    "        return pd.Series([None, None])\n",
    "\n",
    "\n"
   ]
  },
  {
   "cell_type": "code",
   "execution_count": 17,
   "metadata": {},
   "outputs": [],
   "source": [
    "# Apply geocoding to location column\n",
    "df[['Latitude', 'Longitude']] = df['Location'].apply(get_coordinates)\n",
    "\n"
   ]
  },
  {
   "cell_type": "code",
   "execution_count": 19,
   "metadata": {},
   "outputs": [
    {
     "name": "stdout",
     "output_type": "stream",
     "text": [
      "Geocoding completed. File saved as 'geocoded_locations.csv'.\n"
     ]
    }
   ],
   "source": [
    "# Save updated data\n",
    "df.to_csv(\"../data/geocoded_locations.csv\", index=False)\n",
    "\n",
    "print(\"Geocoding completed. File saved as 'geocoded_locations.csv'.\")"
   ]
  },
  {
   "cell_type": "code",
   "execution_count": 21,
   "metadata": {},
   "outputs": [
    {
     "name": "stdout",
     "output_type": "stream",
     "text": [
      "  Group       Date     Location  \\\n",
      "0   JMB  06-Dec-02   Mymensingh   \n",
      "1   JMB  01-Apr-04     Rajshahi   \n",
      "2   HJB  24-Aug-04        Dhaka   \n",
      "3   ISG  01-Jul-16        Dhaka   \n",
      "4   HJB  16-Jun-01  Narayanganj   \n",
      "\n",
      "                                        Target/Event  Killed  Injured  \\\n",
      "0                                     4 Cinema Halls      27      200   \n",
      "1  Lenin-Karl-Marxists (Communists) Sarbohara (Co...      24      300   \n",
      "2                                 Awami League Rally      24      300   \n",
      "3                         Holy Artisan Bakery Attack      24        0   \n",
      "4                                Awami League Office      22      100   \n",
      "\n",
      "  Claimed?                                              Notes References Link  \\\n",
      "0       No  Multiple \\ncinema halls bombed, targeting cult...             NaN   \n",
      "1      Yes  Coordinated attacks against \\nleftist groups, ...             NaN   \n",
      "2       No  High-profile attack on a rally led by Sheikh H...             NaN   \n",
      "3      Yes                                                NaN             NaN   \n",
      "4       No  Bombing at an Awami League office, escalating ...             NaN   \n",
      "\n",
      "    Latitude  Longitude  \n",
      "0  24.888931  90.384519  \n",
      "1  24.628543  89.037686  \n",
      "2  23.754453  90.393336  \n",
      "3  23.754453  90.393336  \n",
      "4  22.833950  80.243549  \n"
     ]
    }
   ],
   "source": [
    "# Load your data\n",
    "df2 = pd.read_csv('../data/geocoded_locations.csv')\n",
    "\n",
    "# Display the first few rows of the dataset\n",
    "print(df2.head())\n"
   ]
  }
 ],
 "metadata": {
  "kernelspec": {
   "display_name": "Python 3",
   "language": "python",
   "name": "python3"
  },
  "language_info": {
   "codemirror_mode": {
    "name": "ipython",
    "version": 3
   },
   "file_extension": ".py",
   "mimetype": "text/x-python",
   "name": "python",
   "nbconvert_exporter": "python",
   "pygments_lexer": "ipython3",
   "version": "3.12.5"
  }
 },
 "nbformat": 4,
 "nbformat_minor": 2
}
