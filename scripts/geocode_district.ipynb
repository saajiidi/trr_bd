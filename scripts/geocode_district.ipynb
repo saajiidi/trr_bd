{
 "cells": [
  {
   "cell_type": "code",
   "execution_count": 2,
   "metadata": {},
   "outputs": [
    {
     "name": "stdout",
     "output_type": "stream",
     "text": [
      "  Group        Date     Location  \\\n",
      "0   JMB   06-Dec-02   Mymensingh   \n",
      "1   JMB  1-Apr-2004     Rajshahi   \n",
      "2   HJB   24-Aug-04        Dhaka   \n",
      "3   ISG    1-Jul-16        Dhaka   \n",
      "4   HJB   16-Jun-01  Narayanganj   \n",
      "\n",
      "                                        Target/Event  Killed  Injured  \\\n",
      "0                                     4 Cinema Halls      27      200   \n",
      "1  Lenin-Karl-Marxists (Communists) Sarbohara (Co...      24      300   \n",
      "2                                 Awami League Rally      24      300   \n",
      "3                         Holy Artisan Bakery Attack      24        0   \n",
      "4                                Awami League Office      22      100   \n",
      "\n",
      "  Claimed?                                              Notes References Link  \n",
      "0       No  Multiple \\ncinema halls bombed, targeting cult...             NaN  \n",
      "1      Yes  Coordinated attacks against \\nleftist groups, ...             NaN  \n",
      "2       No  High-profile attack on a rally led by Sheikh H...             NaN  \n",
      "3      Yes                                                NaN             NaN  \n",
      "4       No  Bombing at an Awami League office, escalating ...             NaN  \n"
     ]
    }
   ],
   "source": [
    "import pandas as pd\n",
    "from geopy.geocoders import Nominatim\n",
    "from geopy.extra.rate_limiter import RateLimiter\n",
    "\n",
    "# Load the dataset\n",
    "df = pd.read_csv('../data/trr_bd.csv')\n",
    "\n",
    "# Display the first few rows of the dataset\n",
    "print(df.head())"
   ]
  },
  {
   "cell_type": "code",
   "execution_count": 3,
   "metadata": {},
   "outputs": [
    {
     "name": "stdout",
     "output_type": "stream",
     "text": [
      "  Group        Date     Location  \\\n",
      "0   JMB   06-Dec-02   Mymensingh   \n",
      "1   JMB  1-Apr-2004     Rajshahi   \n",
      "2   HJB   24-Aug-04        Dhaka   \n",
      "3   ISG    1-Jul-16        Dhaka   \n",
      "4   HJB   16-Jun-01  Narayanganj   \n",
      "\n",
      "                                        Target/Event  Killed  Injured  \\\n",
      "0                                     4 Cinema Halls      27      200   \n",
      "1  Lenin-Karl-Marxists (Communists) Sarbohara (Co...      24      300   \n",
      "2                                 Awami League Rally      24      300   \n",
      "3                         Holy Artisan Bakery Attack      24        0   \n",
      "4                                Awami League Office      22      100   \n",
      "\n",
      "  Claimed?                                              Notes References Link  \\\n",
      "0       No  Multiple \\ncinema halls bombed, targeting cult...             NaN   \n",
      "1      Yes  Coordinated attacks against \\nleftist groups, ...             NaN   \n",
      "2       No  High-profile attack on a rally led by Sheikh H...             NaN   \n",
      "3      Yes                                                NaN             NaN   \n",
      "4       No  Bombing at an Awami League office, escalating ...             NaN   \n",
      "\n",
      "   Latitude  Longitude  \n",
      "0       NaN        NaN  \n",
      "1       NaN        NaN  \n",
      "2       NaN        NaN  \n",
      "3       NaN        NaN  \n",
      "4       NaN        NaN  \n"
     ]
    }
   ],
   "source": [
    "df = pd.read_csv('../data/geocoded_dataset.csv')\n",
    "\n",
    "# Display the first few rows of the dataset\n",
    "print(df.head())"
   ]
  },
  {
   "cell_type": "code",
   "execution_count": 2,
   "metadata": {},
   "outputs": [],
   "source": [
    "# Initialize Nominatim API\n",
    "geolocator = Nominatim(user_agent=\"visualization_map_project\")\n",
    "\n",
    "# Add rate limiter to avoid overloading the service\n",
    "geocode = RateLimiter(geolocator.geocode, min_delay_seconds=1)"
   ]
  },
  {
   "cell_type": "code",
   "execution_count": 8,
   "metadata": {},
   "outputs": [],
   "source": [
    "def get_lat_long(district_name):\n",
    "    try:\n",
    "        location = geocode(district_name + \", Bangladesh\")  # Add country for better accuracy\n",
    "        return (location.latitude, location.longitude)\n",
    "    except:\n",
    "        return (None, None)"
   ]
  },
  {
   "cell_type": "code",
   "execution_count": 10,
   "metadata": {},
   "outputs": [
    {
     "name": "stdout",
     "output_type": "stream",
     "text": [
      "Geocoding completed. Updated dataset saved to 'geocoded_dataset.csv'.\n"
     ]
    }
   ],
   "source": [
    "df['Coordinates'] = df['Location'].apply(get_lat_long)\n",
    "\n",
    "# Split coordinates into separate columns\n",
    "df['Latitude'] = df['Coordinates'].apply(lambda x: x[0])\n",
    "df['Longitude'] = df['Coordinates'].apply(lambda x: x[1])\n",
    "\n",
    "# Drop the 'Coordinates' column\n",
    "df.drop(columns=['Coordinates'], inplace=True)\n",
    "\n",
    "# Save the updated dataset\n",
    "df.to_csv('./data/geocoded_dataset.csv', index=False)\n",
    "\n",
    "print(\"Geocoding completed. Updated dataset saved to 'geocoded_dataset.csv'.\")"
   ]
  }
 ],
 "metadata": {
  "kernelspec": {
   "display_name": "Python 3",
   "language": "python",
   "name": "python3"
  },
  "language_info": {
   "codemirror_mode": {
    "name": "ipython",
    "version": 3
   },
   "file_extension": ".py",
   "mimetype": "text/x-python",
   "name": "python",
   "nbconvert_exporter": "python",
   "pygments_lexer": "ipython3",
   "version": "3.12.5"
  }
 },
 "nbformat": 4,
 "nbformat_minor": 2
}
