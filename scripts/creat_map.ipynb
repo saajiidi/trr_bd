{
 "cells": [
  {
   "cell_type": "code",
   "execution_count": null,
   "metadata": {},
   "outputs": [
    {
     "name": "stdout",
     "output_type": "stream",
     "text": [
      "Combined map created and saved to 'combined_incident_map.html'.\n"
     ]
    }
   ],
   "source": [
    "import pandas as pd\n",
    "import folium\n",
    "from folium.plugins import MarkerCluster\n",
    "\n",
    "# Load the geocoded dataset\n",
    "df = pd.read_csv('../data/geocoded_dataset.csv')\n",
    "\n",
    "# Create a base map centered on Bangladesh\n",
    "m = folium.Map(location=[23.6850, 90.3563], zoom_start=7)\n",
    "\n",
    "# Create a marker cluster\n",
    "marker_cluster = MarkerCluster().add_to(m)\n",
    "\n",
    "# Add markers to the cluster\n",
    "for idx, row in df.iterrows():\n",
    "    if pd.notnull(row['Latitude']) and pd.notnull(row['Longitude']):\n",
    "        # Create a popup with details\n",
    "        popup_content = f\"\"\"\n",
    "        <b>Group:</b> {row['Group']}<br>\n",
    "        <b>Date:</b> {row['Date']}<br>\n",
    "        <b>Location:</b> {row['Location']}<br>\n",
    "        <b>Target/Event:</b> {row['Target/Event']}<br>\n",
    "        <b>Killed:</b> {row['Killed']}<br>\n",
    "        <b>Injured:</b> {row['Injured']}<br>\n",
    "        <b>Claimed?:</b> {row['Claimed?']}<br>\n",
    "        <b>Notes:</b> {row['Notes']}\n",
    "        \"\"\"\n",
    "        popup = folium.Popup(popup_content, max_width=300)\n",
    "\n",
    "        # Create a tooltip with death toll and injuries\n",
    "        tooltip_content = f\"Killed: {row['Killed']}, Injured: {row['Injured']}\"\n",
    "        tooltip = folium.Tooltip(tooltip_content)\n",
    "\n",
    "        # Add the marker to the map\n",
    "        folium.Marker(\n",
    "            location=[row['Latitude'], row['Longitude']],\n",
    "            popup=popup,\n",
    "            tooltip=tooltip\n",
    "        ).add_to(marker_cluster)\n",
    "\n",
    "# Save the map to an HTML file\n",
    "m.save('../output/incident_map.html')\n",
    "\n",
    "print(\"Map created and saved to 'incident_map.html'.\")"
   ]
  }
 ],
 "metadata": {
  "kernelspec": {
   "display_name": "Python 3",
   "language": "python",
   "name": "python3"
  },
  "language_info": {
   "codemirror_mode": {
    "name": "ipython",
    "version": 3
   },
   "file_extension": ".py",
   "mimetype": "text/x-python",
   "name": "python",
   "nbconvert_exporter": "python",
   "pygments_lexer": "ipython3",
   "version": "3.12.5"
  }
 },
 "nbformat": 4,
 "nbformat_minor": 2
}
