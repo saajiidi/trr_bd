{
 "cells": [
  {
   "cell_type": "code",
   "execution_count": null,
   "metadata": {},
   "outputs": [
    {
     "ename": "ValueError",
     "evalue": "Location values cannot contain NaNs.",
     "output_type": "error",
     "traceback": [
      "\u001b[1;31m---------------------------------------------------------------------------\u001b[0m",
      "\u001b[1;31mValueError\u001b[0m                                Traceback (most recent call last)",
      "Cell \u001b[1;32mIn[12], line 54\u001b[0m\n\u001b[0;32m     51\u001b[0m heat_data \u001b[38;5;241m=\u001b[39m [[row[\u001b[38;5;124m'\u001b[39m\u001b[38;5;124mLatitude\u001b[39m\u001b[38;5;124m'\u001b[39m], row[\u001b[38;5;124m'\u001b[39m\u001b[38;5;124mLongitude\u001b[39m\u001b[38;5;124m'\u001b[39m], row[\u001b[38;5;124m'\u001b[39m\u001b[38;5;124mKilled\u001b[39m\u001b[38;5;124m'\u001b[39m] \u001b[38;5;241m+\u001b[39m row[\u001b[38;5;124m'\u001b[39m\u001b[38;5;124mInjured\u001b[39m\u001b[38;5;124m'\u001b[39m]] \u001b[38;5;28;01mfor\u001b[39;00m idx, row \u001b[38;5;129;01min\u001b[39;00m df\u001b[38;5;241m.\u001b[39miterrows()]\n\u001b[0;32m     53\u001b[0m \u001b[38;5;66;03m# Add heatmap to the map\u001b[39;00m\n\u001b[1;32m---> 54\u001b[0m \u001b[43mHeatMap\u001b[49m\u001b[43m(\u001b[49m\u001b[43mheat_data\u001b[49m\u001b[43m)\u001b[49m\u001b[38;5;241m.\u001b[39madd_to(m)\n\u001b[0;32m     56\u001b[0m \u001b[38;5;66;03m# Save the map to an HTML file\u001b[39;00m\n\u001b[0;32m     57\u001b[0m m\u001b[38;5;241m.\u001b[39msave(\u001b[38;5;124m'\u001b[39m\u001b[38;5;124m../output/combined_incident_map.html\u001b[39m\u001b[38;5;124m'\u001b[39m)\n",
      "File \u001b[1;32mc:\\Users\\Sajid\\AppData\\Local\\Programs\\Python\\Python312\\Lib\\site-packages\\folium\\plugins\\heat_map.py:84\u001b[0m, in \u001b[0;36mHeatMap.__init__\u001b[1;34m(self, data, name, min_opacity, max_zoom, radius, blur, gradient, overlay, control, show, **kwargs)\u001b[0m\n\u001b[0;32m     81\u001b[0m \u001b[38;5;28mself\u001b[39m\u001b[38;5;241m.\u001b[39m_name \u001b[38;5;241m=\u001b[39m \u001b[38;5;124m\"\u001b[39m\u001b[38;5;124mHeatMap\u001b[39m\u001b[38;5;124m\"\u001b[39m\n\u001b[0;32m     82\u001b[0m data \u001b[38;5;241m=\u001b[39m if_pandas_df_convert_to_numpy(data)\n\u001b[0;32m     83\u001b[0m \u001b[38;5;28mself\u001b[39m\u001b[38;5;241m.\u001b[39mdata \u001b[38;5;241m=\u001b[39m [\n\u001b[1;32m---> 84\u001b[0m     [\u001b[38;5;241m*\u001b[39m\u001b[43mvalidate_location\u001b[49m\u001b[43m(\u001b[49m\u001b[43mline\u001b[49m\u001b[43m[\u001b[49m\u001b[43m:\u001b[49m\u001b[38;5;241;43m2\u001b[39;49m\u001b[43m]\u001b[49m\u001b[43m)\u001b[49m, \u001b[38;5;241m*\u001b[39mline[\u001b[38;5;241m2\u001b[39m:]] \u001b[38;5;28;01mfor\u001b[39;00m line \u001b[38;5;129;01min\u001b[39;00m data  \u001b[38;5;66;03m# noqa: E999\u001b[39;00m\n\u001b[0;32m     85\u001b[0m ]\n\u001b[0;32m     86\u001b[0m \u001b[38;5;28;01mif\u001b[39;00m np\u001b[38;5;241m.\u001b[39many(np\u001b[38;5;241m.\u001b[39misnan(\u001b[38;5;28mself\u001b[39m\u001b[38;5;241m.\u001b[39mdata)):\n\u001b[0;32m     87\u001b[0m     \u001b[38;5;28;01mraise\u001b[39;00m \u001b[38;5;167;01mValueError\u001b[39;00m(\u001b[38;5;124m\"\u001b[39m\u001b[38;5;124mdata may not contain NaNs.\u001b[39m\u001b[38;5;124m\"\u001b[39m)\n",
      "File \u001b[1;32mc:\\Users\\Sajid\\AppData\\Local\\Programs\\Python\\Python312\\Lib\\site-packages\\folium\\utilities.py:108\u001b[0m, in \u001b[0;36mvalidate_location\u001b[1;34m(location)\u001b[0m\n\u001b[0;32m    103\u001b[0m         \u001b[38;5;28;01mraise\u001b[39;00m \u001b[38;5;167;01mValueError\u001b[39;00m(\n\u001b[0;32m    104\u001b[0m             \u001b[38;5;124m\"\u001b[39m\u001b[38;5;124mLocation should consist of two numerical values, \u001b[39m\u001b[38;5;124m\"\u001b[39m\n\u001b[0;32m    105\u001b[0m             \u001b[38;5;124mf\u001b[39m\u001b[38;5;124m\"\u001b[39m\u001b[38;5;124mbut \u001b[39m\u001b[38;5;132;01m{\u001b[39;00mcoord\u001b[38;5;132;01m!r}\u001b[39;00m\u001b[38;5;124m of type \u001b[39m\u001b[38;5;132;01m{\u001b[39;00m\u001b[38;5;28mtype\u001b[39m(coord)\u001b[38;5;132;01m}\u001b[39;00m\u001b[38;5;124m is not convertible to float.\u001b[39m\u001b[38;5;124m\"\u001b[39m\n\u001b[0;32m    106\u001b[0m         )\n\u001b[0;32m    107\u001b[0m     \u001b[38;5;28;01mif\u001b[39;00m math\u001b[38;5;241m.\u001b[39misnan(\u001b[38;5;28mfloat\u001b[39m(coord)):\n\u001b[1;32m--> 108\u001b[0m         \u001b[38;5;28;01mraise\u001b[39;00m \u001b[38;5;167;01mValueError\u001b[39;00m(\u001b[38;5;124m\"\u001b[39m\u001b[38;5;124mLocation values cannot contain NaNs.\u001b[39m\u001b[38;5;124m\"\u001b[39m)\n\u001b[0;32m    109\u001b[0m \u001b[38;5;28;01mreturn\u001b[39;00m [\u001b[38;5;28mfloat\u001b[39m(x) \u001b[38;5;28;01mfor\u001b[39;00m x \u001b[38;5;129;01min\u001b[39;00m coords]\n",
      "\u001b[1;31mValueError\u001b[0m: Location values cannot contain NaNs."
     ]
    }
   ],
   "source": []
  },
  {
   "cell_type": "code",
   "execution_count": 14,
   "metadata": {},
   "outputs": [
    {
     "ename": "ValueError",
     "evalue": "Location values cannot contain NaNs.",
     "output_type": "error",
     "traceback": [
      "\u001b[1;31m---------------------------------------------------------------------------\u001b[0m",
      "\u001b[1;31mValueError\u001b[0m                                Traceback (most recent call last)",
      "Cell \u001b[1;32mIn[14], line 54\u001b[0m\n\u001b[0;32m     51\u001b[0m heat_data \u001b[38;5;241m=\u001b[39m [[row[\u001b[38;5;124m'\u001b[39m\u001b[38;5;124mLatitude\u001b[39m\u001b[38;5;124m'\u001b[39m], row[\u001b[38;5;124m'\u001b[39m\u001b[38;5;124mLongitude\u001b[39m\u001b[38;5;124m'\u001b[39m], row[\u001b[38;5;124m'\u001b[39m\u001b[38;5;124mKilled\u001b[39m\u001b[38;5;124m'\u001b[39m] \u001b[38;5;241m+\u001b[39m row[\u001b[38;5;124m'\u001b[39m\u001b[38;5;124mInjured\u001b[39m\u001b[38;5;124m'\u001b[39m]] \u001b[38;5;28;01mfor\u001b[39;00m idx, row \u001b[38;5;129;01min\u001b[39;00m df\u001b[38;5;241m.\u001b[39miterrows()]\n\u001b[0;32m     53\u001b[0m \u001b[38;5;66;03m# Add heatmap to the map\u001b[39;00m\n\u001b[1;32m---> 54\u001b[0m \u001b[43mHeatMap\u001b[49m\u001b[43m(\u001b[49m\u001b[43mheat_data\u001b[49m\u001b[43m)\u001b[49m\u001b[38;5;241m.\u001b[39madd_to(m)\n\u001b[0;32m     56\u001b[0m \u001b[38;5;66;03m# Save the map to an HTML file\u001b[39;00m\n\u001b[0;32m     57\u001b[0m m\u001b[38;5;241m.\u001b[39msave(\u001b[38;5;124m'\u001b[39m\u001b[38;5;124m../output/combined_incident_map.html\u001b[39m\u001b[38;5;124m'\u001b[39m)\n",
      "File \u001b[1;32mc:\\Users\\Sajid\\AppData\\Local\\Programs\\Python\\Python312\\Lib\\site-packages\\folium\\plugins\\heat_map.py:84\u001b[0m, in \u001b[0;36mHeatMap.__init__\u001b[1;34m(self, data, name, min_opacity, max_zoom, radius, blur, gradient, overlay, control, show, **kwargs)\u001b[0m\n\u001b[0;32m     81\u001b[0m \u001b[38;5;28mself\u001b[39m\u001b[38;5;241m.\u001b[39m_name \u001b[38;5;241m=\u001b[39m \u001b[38;5;124m\"\u001b[39m\u001b[38;5;124mHeatMap\u001b[39m\u001b[38;5;124m\"\u001b[39m\n\u001b[0;32m     82\u001b[0m data \u001b[38;5;241m=\u001b[39m if_pandas_df_convert_to_numpy(data)\n\u001b[0;32m     83\u001b[0m \u001b[38;5;28mself\u001b[39m\u001b[38;5;241m.\u001b[39mdata \u001b[38;5;241m=\u001b[39m [\n\u001b[1;32m---> 84\u001b[0m     [\u001b[38;5;241m*\u001b[39m\u001b[43mvalidate_location\u001b[49m\u001b[43m(\u001b[49m\u001b[43mline\u001b[49m\u001b[43m[\u001b[49m\u001b[43m:\u001b[49m\u001b[38;5;241;43m2\u001b[39;49m\u001b[43m]\u001b[49m\u001b[43m)\u001b[49m, \u001b[38;5;241m*\u001b[39mline[\u001b[38;5;241m2\u001b[39m:]] \u001b[38;5;28;01mfor\u001b[39;00m line \u001b[38;5;129;01min\u001b[39;00m data  \u001b[38;5;66;03m# noqa: E999\u001b[39;00m\n\u001b[0;32m     85\u001b[0m ]\n\u001b[0;32m     86\u001b[0m \u001b[38;5;28;01mif\u001b[39;00m np\u001b[38;5;241m.\u001b[39many(np\u001b[38;5;241m.\u001b[39misnan(\u001b[38;5;28mself\u001b[39m\u001b[38;5;241m.\u001b[39mdata)):\n\u001b[0;32m     87\u001b[0m     \u001b[38;5;28;01mraise\u001b[39;00m \u001b[38;5;167;01mValueError\u001b[39;00m(\u001b[38;5;124m\"\u001b[39m\u001b[38;5;124mdata may not contain NaNs.\u001b[39m\u001b[38;5;124m\"\u001b[39m)\n",
      "File \u001b[1;32mc:\\Users\\Sajid\\AppData\\Local\\Programs\\Python\\Python312\\Lib\\site-packages\\folium\\utilities.py:108\u001b[0m, in \u001b[0;36mvalidate_location\u001b[1;34m(location)\u001b[0m\n\u001b[0;32m    103\u001b[0m         \u001b[38;5;28;01mraise\u001b[39;00m \u001b[38;5;167;01mValueError\u001b[39;00m(\n\u001b[0;32m    104\u001b[0m             \u001b[38;5;124m\"\u001b[39m\u001b[38;5;124mLocation should consist of two numerical values, \u001b[39m\u001b[38;5;124m\"\u001b[39m\n\u001b[0;32m    105\u001b[0m             \u001b[38;5;124mf\u001b[39m\u001b[38;5;124m\"\u001b[39m\u001b[38;5;124mbut \u001b[39m\u001b[38;5;132;01m{\u001b[39;00mcoord\u001b[38;5;132;01m!r}\u001b[39;00m\u001b[38;5;124m of type \u001b[39m\u001b[38;5;132;01m{\u001b[39;00m\u001b[38;5;28mtype\u001b[39m(coord)\u001b[38;5;132;01m}\u001b[39;00m\u001b[38;5;124m is not convertible to float.\u001b[39m\u001b[38;5;124m\"\u001b[39m\n\u001b[0;32m    106\u001b[0m         )\n\u001b[0;32m    107\u001b[0m     \u001b[38;5;28;01mif\u001b[39;00m math\u001b[38;5;241m.\u001b[39misnan(\u001b[38;5;28mfloat\u001b[39m(coord)):\n\u001b[1;32m--> 108\u001b[0m         \u001b[38;5;28;01mraise\u001b[39;00m \u001b[38;5;167;01mValueError\u001b[39;00m(\u001b[38;5;124m\"\u001b[39m\u001b[38;5;124mLocation values cannot contain NaNs.\u001b[39m\u001b[38;5;124m\"\u001b[39m)\n\u001b[0;32m    109\u001b[0m \u001b[38;5;28;01mreturn\u001b[39;00m [\u001b[38;5;28mfloat\u001b[39m(x) \u001b[38;5;28;01mfor\u001b[39;00m x \u001b[38;5;129;01min\u001b[39;00m coords]\n",
      "\u001b[1;31mValueError\u001b[0m: Location values cannot contain NaNs."
     ]
    }
   ],
   "source": [
    "import pandas as pd\n",
    "import folium\n",
    "from folium.plugins import MarkerCluster, HeatMap\n",
    "\n",
    "# Load the geocoded dataset\n",
    "df = pd.read_csv('../data/geocoded_dataset.csv')\n",
    "\n",
    "# Create a base map centered on Bangladesh\n",
    "m = folium.Map(location=[23.6850, 90.3563], zoom_start=7)\n",
    "\n",
    "# Create a marker cluster\n",
    "marker_cluster = MarkerCluster().add_to(m)\n",
    "\n",
    "# Define a color mapping for groups\n",
    "group_colors = {\n",
    "    \"JMB\": \"red\",\n",
    "    \"HJB\": \"blue\",\n",
    "    \"ISG\": \"green\",\n",
    "    \"AQS\": \"orange\"\n",
    "}\n",
    "\n",
    "# Add markers to the cluster\n",
    "for idx, row in df.iterrows():\n",
    "    if pd.notnull(row['Latitude']) and pd.notnull(row['Longitude']):\n",
    "        # Create a popup with details\n",
    "        popup_content = f\"\"\"\n",
    "        <b>Group:</b> {row['Group']}<br>\n",
    "        <b>Date:</b> {row['Date']}<br>\n",
    "        <b>Location:</b> {row['Location']}<br>\n",
    "        <b>Target/Event:</b> {row['Target/Event']}<br>\n",
    "        <b>Killed:</b> {row['Killed']}<br>\n",
    "        <b>Injured:</b> {row['Injured']}<br>\n",
    "        <b>Claimed?:</b> {row['Claimed?']}<br>\n",
    "        <b>Notes:</b> {row['Notes']}\n",
    "        \"\"\"\n",
    "        popup = folium.Popup(popup_content, max_width=300)\n",
    "\n",
    "        # Create a tooltip with death toll and injuries\n",
    "        tooltip_content = f\"Killed: {row['Killed']}, Injured: {row['Injured']}\"\n",
    "        tooltip = folium.Tooltip(tooltip_content)\n",
    "\n",
    "        # Add the marker to the map with color coding\n",
    "        folium.Marker(\n",
    "            location=[row['Latitude'], row['Longitude']],\n",
    "            popup=popup,\n",
    "            tooltip=tooltip,\n",
    "            icon=folium.Icon(color=group_colors.get(row['Group'], \"gray\"))  # Default to gray if group not in mapping\n",
    "        ).add_to(marker_cluster)\n",
    "\n",
    "# Create heatmap data\n",
    "heat_data = [[row['Latitude'], row['Longitude'], row['Killed'] + row['Injured']] for idx, row in df.iterrows()]\n",
    "\n",
    "# Add heatmap to the map\n",
    "HeatMap(heat_data).add_to(m)\n",
    "\n",
    "# Save the map to an HTML file\n",
    "m.save('../output/combined_incident_map.html')\n",
    "\n",
    "print(\"Combined map created and saved to 'combined_incident_map.html'.\")"
   ]
  }
 ],
 "metadata": {
  "kernelspec": {
   "display_name": "Python 3",
   "language": "python",
   "name": "python3"
  },
  "language_info": {
   "codemirror_mode": {
    "name": "ipython",
    "version": 3
   },
   "file_extension": ".py",
   "mimetype": "text/x-python",
   "name": "python",
   "nbconvert_exporter": "python",
   "pygments_lexer": "ipython3",
   "version": "3.12.5"
  }
 },
 "nbformat": 4,
 "nbformat_minor": 2
}
